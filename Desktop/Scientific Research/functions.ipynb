{
 "cells": [
  {
   "cell_type": "code",
   "execution_count": null,
   "metadata": {},
   "outputs": [],
   "source": [
    "'''This function places the graph into a breadth-first structure'''\n",
    "def breadth_first(graph, root):\n",
    "    n = graph.shape[0]\n",
    "    \n",
    "    new_graph = -np.ones((n, n))\n",
    "    level = np.ones(n)\n",
    "    \n",
    "    current_level = 0\n",
    "    \n",
    "    level[root] = current_level\n",
    "    \n",
    "    while current_level in level:\n",
    "        for node in level[level == current_level]:\n",
    "            \n",
    "            index = []\n",
    "            \n",
    "            for i in range(n):\n",
    "                if graph[node][i]>=0 and level[i] == -1:\n",
    "                    index.append(i)\n",
    "                    \n",
    "            new_graph[node][index] = 0\n",
    "            level[index] = current_level + 1\n",
    "            \n",
    "        current_level += 1\n",
    "    return new_graph, level"
   ]
  },
  {
   "cell_type": "code",
   "execution_count": null,
   "metadata": {},
   "outputs": [],
   "source": [
    "'''This function calculates the values of the shortest paths to each node (shortest path = the sum of incoming paths)'''\n",
    "def pointer(new_graph, level, root):\n",
    "    \n",
    "    output = np.zeros(new_graph.shape[0])\n",
    "    output[root] = 1\n",
    "    \n",
    "    for x in range(level.max+1):\n",
    "        for y in level[level == x]: #upside down\n",
    "            index = []\n",
    "            for i in range(new_graph.shape[0]): \n",
    "                if new_graph[y][i] >= 0 and level[i] == x+1:\n",
    "                    index.append(i)\n",
    "\n",
    "        output[index] += output[y]\n",
    "    \n",
    "    \n",
    "    return output"
   ]
  },
  {
   "cell_type": "code",
   "execution_count": null,
   "metadata": {},
   "outputs": [],
   "source": [
    "# Finish the 3rd part for homework - find the flow values backwards\n",
    "''' Determine the flow values from a starting node A to all other nodes in the network. \n",
    "This is done by working up from the lowest layers of the breadth-first search and dividing up the flow above a node \n",
    "in proportion to the number of shortest paths coming into it on each edge.'''\n",
    "def flow(new_graph, level, root, output):\n",
    "    \n",
    "    flows = np.ones(new_graph.shape[0])\n",
    "    \n",
    "    for x in np.array(range(np.max(level)+1)[::-1]):\n",
    "        for y in level[level == x]:\n",
    "            for i in range(new_graph.shape[0]):\n",
    "                if(new_graph[i][y] >= 0 and level[i] == x-1):\n",
    "                    new_graph[i][y] = flows[y] * output[i] / output[y]\n",
    "                    flows[i] = flows[y] * output[i] / output[y]\n",
    "        \n",
    "    return new_graph\n",
    "    \n",
    "            \n",
    "        \n",
    "\n",
    "\n",
    "\n",
    "\n"
   ]
  },
  {
   "cell_type": "code",
   "execution_count": null,
   "metadata": {},
   "outputs": [],
   "source": [
    "'''unite the functions, review the algorithm, describe how the algorithm works'''"
   ]
  }
 ],
 "metadata": {
  "kernelspec": {
   "display_name": "Python 3",
   "language": "python",
   "name": "python3"
  },
  "language_info": {
   "codemirror_mode": {
    "name": "ipython",
    "version": 3
   },
   "file_extension": ".py",
   "mimetype": "text/x-python",
   "name": "python",
   "nbconvert_exporter": "python",
   "pygments_lexer": "ipython3",
   "version": "3.7.0"
  }
 },
 "nbformat": 4,
 "nbformat_minor": 2
}
